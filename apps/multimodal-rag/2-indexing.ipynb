{
 "cells": [
  {
   "cell_type": "code",
   "execution_count": 2,
   "metadata": {},
   "outputs": [],
   "source": [
    "import os\n",
    "import sys\n",
    "\n",
    "ROOT_PATH = os.path.abspath(\"../../\")\n",
    "sys.path.append(ROOT_PATH)"
   ]
  },
  {
   "cell_type": "code",
   "execution_count": 6,
   "metadata": {},
   "outputs": [],
   "source": [
    "from common.aws.dynamodb import DynamoDB\n",
    "from common.aws.opensearch import OpenSearchWrapper\n",
    "from common.aws.embedding import BedrockEmbedding\n",
    "from common.utils.images import encode_image_base64"
   ]
  },
  {
   "cell_type": "code",
   "execution_count": 7,
   "metadata": {},
   "outputs": [],
   "source": [
    "# Your OpenSearch Domain Endpoint URL\n",
    "OPENSEARCH_REGION = \"ap-northeast-2\"\n",
    "OPENSEARCH_ENDPOINT = \"https://search-multimodal-rag-c6t4wu36vxectykbhzulrhhdqa.ap-northeast-2.es.amazonaws.com\"\n",
    "\n",
    "# Index Name to store image vectors\n",
    "OPENSEARCH_INDEX_IMAGE = \"rag-object-image\"\n",
    "\n",
    "# Index Name to store text vectors\n",
    "OPENSEARCH_INDEX_TEXT = \"rag-object-text\""
   ]
  },
  {
   "cell_type": "code",
   "execution_count": 10,
   "metadata": {},
   "outputs": [
    {
     "ename": "TypeError",
     "evalue": "",
     "output_type": "error",
     "traceback": [
      "\u001b[0;31m---------------------------------------------------------------------------\u001b[0m",
      "\u001b[0;31mTypeError\u001b[0m                                 Traceback (most recent call last)",
      "\u001b[1;32m/home/yoo/workspace/multimodal-gen-ai/apps/multimodal-rag/2-indexing.ipynb Cell 4\u001b[0m in \u001b[0;36m<cell line: 3>\u001b[0;34m()\u001b[0m\n\u001b[1;32m      <a href='vscode-notebook-cell:/home/yoo/workspace/multimodal-gen-ai/apps/multimodal-rag/2-indexing.ipynb#X14sZmlsZQ%3D%3D?line=0'>1</a>\u001b[0m embedding \u001b[39m=\u001b[39m BedrockEmbedding()\n\u001b[0;32m----> <a href='vscode-notebook-cell:/home/yoo/workspace/multimodal-gen-ai/apps/multimodal-rag/2-indexing.ipynb#X14sZmlsZQ%3D%3D?line=2'>3</a>\u001b[0m imageIndex \u001b[39m=\u001b[39m OpenSearchWrapper(\n\u001b[1;32m      <a href='vscode-notebook-cell:/home/yoo/workspace/multimodal-gen-ai/apps/multimodal-rag/2-indexing.ipynb#X14sZmlsZQ%3D%3D?line=3'>4</a>\u001b[0m     endpoint\u001b[39m=\u001b[39;49mOPENSEARCH_ENDPOINT,\n\u001b[1;32m      <a href='vscode-notebook-cell:/home/yoo/workspace/multimodal-gen-ai/apps/multimodal-rag/2-indexing.ipynb#X14sZmlsZQ%3D%3D?line=4'>5</a>\u001b[0m     index\u001b[39m=\u001b[39;49mOPENSEARCH_INDEX_IMAGE,\n\u001b[1;32m      <a href='vscode-notebook-cell:/home/yoo/workspace/multimodal-gen-ai/apps/multimodal-rag/2-indexing.ipynb#X14sZmlsZQ%3D%3D?line=5'>6</a>\u001b[0m     region\u001b[39m=\u001b[39;49mOPENSEARCH_REGION\n\u001b[1;32m      <a href='vscode-notebook-cell:/home/yoo/workspace/multimodal-gen-ai/apps/multimodal-rag/2-indexing.ipynb#X14sZmlsZQ%3D%3D?line=6'>7</a>\u001b[0m )\n\u001b[1;32m      <a href='vscode-notebook-cell:/home/yoo/workspace/multimodal-gen-ai/apps/multimodal-rag/2-indexing.ipynb#X14sZmlsZQ%3D%3D?line=8'>9</a>\u001b[0m textIndex \u001b[39m=\u001b[39m OpenSearchWrapper(\n\u001b[1;32m     <a href='vscode-notebook-cell:/home/yoo/workspace/multimodal-gen-ai/apps/multimodal-rag/2-indexing.ipynb#X14sZmlsZQ%3D%3D?line=9'>10</a>\u001b[0m     endpoint\u001b[39m=\u001b[39mOPENSEARCH_ENDPOINT,\n\u001b[1;32m     <a href='vscode-notebook-cell:/home/yoo/workspace/multimodal-gen-ai/apps/multimodal-rag/2-indexing.ipynb#X14sZmlsZQ%3D%3D?line=10'>11</a>\u001b[0m     index\u001b[39m=\u001b[39mOPENSEARCH_INDEX_TEXT,\n\u001b[1;32m     <a href='vscode-notebook-cell:/home/yoo/workspace/multimodal-gen-ai/apps/multimodal-rag/2-indexing.ipynb#X14sZmlsZQ%3D%3D?line=11'>12</a>\u001b[0m     region\u001b[39m=\u001b[39mOPENSEARCH_REGION\n\u001b[1;32m     <a href='vscode-notebook-cell:/home/yoo/workspace/multimodal-gen-ai/apps/multimodal-rag/2-indexing.ipynb#X14sZmlsZQ%3D%3D?line=12'>13</a>\u001b[0m )\n",
      "File \u001b[0;32m~/workspace/multimodal-gen-ai/common/aws/opensearch.py:17\u001b[0m, in \u001b[0;36mOpenSearchWrapper.__init__\u001b[0;34m(self, endpoint, index, region)\u001b[0m\n\u001b[1;32m     14\u001b[0m \u001b[39mself\u001b[39m\u001b[39m.\u001b[39mendpoint \u001b[39m=\u001b[39m endpoint\n\u001b[1;32m     15\u001b[0m \u001b[39mself\u001b[39m\u001b[39m.\u001b[39mindex \u001b[39m=\u001b[39m index\n\u001b[0;32m---> 17\u001b[0m \u001b[39mself\u001b[39m\u001b[39m.\u001b[39mawsauth \u001b[39m=\u001b[39m AWS4Auth(\n\u001b[1;32m     18\u001b[0m     \u001b[39mself\u001b[39;49m\u001b[39m.\u001b[39;49mregion,\n\u001b[1;32m     19\u001b[0m     \u001b[39m'\u001b[39;49m\u001b[39mes\u001b[39;49m\u001b[39m'\u001b[39;49m\n\u001b[1;32m     20\u001b[0m )\n\u001b[1;32m     22\u001b[0m \u001b[39mself\u001b[39m\u001b[39m.\u001b[39mclient \u001b[39m=\u001b[39m OpenSearch(\n\u001b[1;32m     23\u001b[0m     hosts\u001b[39m=\u001b[39m[{\u001b[39m'\u001b[39m\u001b[39mhost\u001b[39m\u001b[39m'\u001b[39m: \u001b[39mself\u001b[39m\u001b[39m.\u001b[39mendpoint\u001b[39m.\u001b[39mreplace(\u001b[39m'\u001b[39m\u001b[39mhttps://\u001b[39m\u001b[39m'\u001b[39m, \u001b[39m'\u001b[39m\u001b[39m'\u001b[39m), \u001b[39m'\u001b[39m\u001b[39mport\u001b[39m\u001b[39m'\u001b[39m: \u001b[39m443\u001b[39m}],\n\u001b[1;32m     24\u001b[0m     http_auth\u001b[39m=\u001b[39m\u001b[39mself\u001b[39m\u001b[39m.\u001b[39mawsauth,\n\u001b[0;32m   (...)\u001b[0m\n\u001b[1;32m     28\u001b[0m     timeout\u001b[39m=\u001b[39m\u001b[39m300\u001b[39m\n\u001b[1;32m     29\u001b[0m )\n",
      "File \u001b[0;32m~/anaconda3/lib/python3.9/site-packages/requests_aws4auth/aws4auth.py:300\u001b[0m, in \u001b[0;36mAWS4Auth.__init__\u001b[0;34m(self, *args, **kwargs)\u001b[0m\n\u001b[1;32m    298\u001b[0m     \u001b[39mself\u001b[39m\u001b[39m.\u001b[39mregenerate_signing_key(secret_key\u001b[39m=\u001b[39msecret_key)\n\u001b[1;32m    299\u001b[0m \u001b[39melse\u001b[39;00m:\n\u001b[0;32m--> 300\u001b[0m     \u001b[39mraise\u001b[39;00m \u001b[39mTypeError\u001b[39;00m()\n\u001b[1;32m    302\u001b[0m \u001b[39mself\u001b[39m\u001b[39m.\u001b[39msession_token \u001b[39m=\u001b[39m kwargs\u001b[39m.\u001b[39mget(\u001b[39m'\u001b[39m\u001b[39msession_token\u001b[39m\u001b[39m'\u001b[39m)\n\u001b[1;32m    303\u001b[0m \u001b[39mif\u001b[39;00m \u001b[39mself\u001b[39m\u001b[39m.\u001b[39msession_token:\n",
      "\u001b[0;31mTypeError\u001b[0m: "
     ]
    }
   ],
   "source": [
    "embedding = BedrockEmbedding()\n",
    "\n",
    "imageIndex = OpenSearchWrapper(\n",
    "    endpoint=OPENSEARCH_ENDPOINT,\n",
    "    index=OPENSEARCH_INDEX_IMAGE,\n",
    "    region=OPENSEARCH_REGION\n",
    ")\n",
    "\n",
    "textIndex = OpenSearchWrapper(\n",
    "    endpoint=OPENSEARCH_ENDPOINT,\n",
    "    index=OPENSEARCH_INDEX_TEXT,\n",
    "    region=OPENSEARCH_REGION\n",
    ")"
   ]
  },
  {
   "cell_type": "code",
   "execution_count": null,
   "metadata": {},
   "outputs": [],
   "source": [
    "\n",
    "def update_doc_to_index(opensearch: OpenSearchWrapper, item: dict, vector: List, text: str, embedType: str):\n",
    "    id = str(item.get('id'))\n",
    "    namekor = item.get('namekor')\n",
    "    nameeng = item.get('productDisplayName')\n",
    "    thumbnail = item.get('thumbnail')\n",
    "\n",
    "    opensearch.update_doc(\n",
    "        id= f'{id}-{embedType}',\n",
    "        body={\n",
    "            'vector_field': vector,\n",
    "            'text': text,\n",
    "            'metadata': {\n",
    "                'id': id,\n",
    "                'embedType': embedType,\n",
    "                'productDisplayName': nameeng,\n",
    "                'namekor': namekor,\n",
    "                'thumbnail': thumbnail,\n",
    "            }\n",
    "        }\n",
    "    )\n"
   ]
  }
 ],
 "metadata": {
  "kernelspec": {
   "display_name": "base",
   "language": "python",
   "name": "python3"
  },
  "language_info": {
   "codemirror_mode": {
    "name": "ipython",
    "version": 3
   },
   "file_extension": ".py",
   "mimetype": "text/x-python",
   "name": "python",
   "nbconvert_exporter": "python",
   "pygments_lexer": "ipython3",
   "version": "3.9.12"
  },
  "orig_nbformat": 4,
  "vscode": {
   "interpreter": {
    "hash": "2c97182bcee1c5a46c75e12f527516848bb4d812af65bc6ddf5c082f318f5a83"
   }
  }
 },
 "nbformat": 4,
 "nbformat_minor": 2
}
