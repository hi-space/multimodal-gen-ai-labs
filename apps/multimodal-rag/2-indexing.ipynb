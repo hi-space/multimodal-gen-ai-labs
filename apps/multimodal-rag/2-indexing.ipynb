{
 "cells": [
  {
   "cell_type": "code",
   "execution_count": null,
   "metadata": {},
   "outputs": [],
   "source": [
    "import os\n",
    "import sys\n",
    "\n",
    "ROOT_PATH = os.path.abspath(\"../../\")\n",
    "sys.path.append(ROOT_PATH)"
   ]
  },
  {
   "cell_type": "code",
   "execution_count": null,
   "metadata": {},
   "outputs": [],
   "source": [
    "from genai_kit.aws.dynamodb import DynamoDB\n",
    "from genai_kit.aws.opensearch import OpenSearchWrapper\n",
    "from genai_kit.aws.embedding import BedrockEmbedding\n",
    "from genai_kit.utils.images import encode_image_base64"
   ]
  },
  {
   "cell_type": "code",
   "execution_count": null,
   "metadata": {},
   "outputs": [],
   "source": [
    "# Your OpenSearch Domain Endpoint URL\n",
    "OPENSEARCH_REGION = \"ap-northeast-2\"\n",
    "OPENSEARCH_ENDPOINT = \"https://search-multimodal-rag-c6t4wu36vxectykbhzulrhhdqa.ap-northeast-2.es.amazonaws.com\"\n",
    "\n",
    "# Index Name to store image vectors\n",
    "OPENSEARCH_INDEX_IMAGE = \"rag-object-image\"\n",
    "\n",
    "# Index Name to store text vectors\n",
    "OPENSEARCH_INDEX_TEXT = \"rag-object-text\""
   ]
  },
  {
   "cell_type": "code",
   "execution_count": null,
   "metadata": {},
   "outputs": [],
   "source": [
    "embedding = BedrockEmbedding()\n",
    "\n",
    "imageIndex = OpenSearchWrapper(\n",
    "    endpoint=OPENSEARCH_ENDPOINT,\n",
    "    index=OPENSEARCH_INDEX_IMAGE,\n",
    "    region=OPENSEARCH_REGION\n",
    ")\n",
    "\n",
    "textIndex = OpenSearchWrapper(\n",
    "    endpoint=OPENSEARCH_ENDPOINT,\n",
    "    index=OPENSEARCH_INDEX_TEXT,\n",
    "    region=OPENSEARCH_REGION\n",
    ")"
   ]
  },
  {
   "cell_type": "code",
   "execution_count": null,
   "metadata": {},
   "outputs": [],
   "source": [
    "\n",
    "def update_doc_to_index(opensearch: OpenSearchWrapper, item: dict, vector: List, text: str, embedType: str):\n",
    "    id = str(item.get('id'))\n",
    "    namekor = item.get('namekor')\n",
    "    nameeng = item.get('productDisplayName')\n",
    "    thumbnail = item.get('thumbnail')\n",
    "\n",
    "    opensearch.update_doc(\n",
    "        id= f'{id}-{embedType}',\n",
    "        body={\n",
    "            'vector_field': vector,\n",
    "            'text': text,\n",
    "            'metadata': {\n",
    "                'id': id,\n",
    "                'embedType': embedType,\n",
    "                'productDisplayName': nameeng,\n",
    "                'namekor': namekor,\n",
    "                'thumbnail': thumbnail,\n",
    "            }\n",
    "        }\n",
    "    )\n"
   ]
  }
 ],
 "metadata": {
  "kernelspec": {
   "display_name": "base",
   "language": "python",
   "name": "python3"
  },
  "language_info": {
   "codemirror_mode": {
    "name": "ipython",
    "version": 3
   },
   "file_extension": ".py",
   "mimetype": "text/x-python",
   "name": "python",
   "nbconvert_exporter": "python",
   "pygments_lexer": "ipython3",
   "version": "3.9.12"
  },
  "orig_nbformat": 4,
  "vscode": {
   "interpreter": {
    "hash": "2c97182bcee1c5a46c75e12f527516848bb4d812af65bc6ddf5c082f318f5a83"
   }
  }
 },
 "nbformat": 4,
 "nbformat_minor": 2
}
