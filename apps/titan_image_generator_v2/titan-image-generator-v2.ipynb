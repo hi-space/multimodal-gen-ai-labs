{
 "cells": [
  {
   "cell_type": "markdown",
   "metadata": {},
   "source": [
    "[Titan Image Generator G1 - Request and response format](https://docs.aws.amazon.com/bedrock/latest/userguide/model-parameters-titan-image.html)"
   ]
  },
  {
   "cell_type": "code",
   "execution_count": null,
   "metadata": {},
   "outputs": [],
   "source": [
    "import os\n",
    "import sys\n",
    "\n",
    "ROOT_PATH = os.path.abspath(\"../../\")\n",
    "sys.path.append(ROOT_PATH)"
   ]
  },
  {
   "cell_type": "code",
   "execution_count": null,
   "metadata": {},
   "outputs": [],
   "source": [
    "import boto3\n",
    "import json\n",
    "from common.utils.images import display_image, encode_image_base64_from_file\n",
    "from common.aws.titan_image import ImageParams\n",
    "\n",
    "\n",
    "def gen_image(body: str):\n",
    "    bedrock = boto3.client(service_name='bedrock-runtime',\n",
    "                           region_name = 'us-west-2')\n",
    "    response = bedrock.invoke_model(\n",
    "        body=body,\n",
    "        modelId=\"amazon.titan-image-generator-v2:0\",\n",
    "        accept=\"application/json\",\n",
    "        contentType=\"application/json\"\n",
    "    )\n",
    "    response_body = json.loads(response.get(\"body\").read())\n",
    "    image = response_body.get(\"images\")\n",
    "    return image\n",
    "\n",
    "\n",
    "image_params = ImageParams()"
   ]
  },
  {
   "attachments": {},
   "cell_type": "markdown",
   "metadata": {},
   "source": [
    "## Text to Image"
   ]
  },
  {
   "cell_type": "code",
   "execution_count": null,
   "metadata": {},
   "outputs": [],
   "source": [
    "body = image_params.text_to_image(text=\"Modern, high-end beach house interior with panoramic views of the sand and sea, emphasizing sleek design and uncluttered spaces\")\n",
    "img = gen_image(body)\n",
    "display_image(img)"
   ]
  },
  {
   "attachments": {},
   "cell_type": "markdown",
   "metadata": {},
   "source": [
    "## Image Variation\n",
    "\n",
    "The Titan Image Generator can import existing images and create modified versions based on them. This is useful when you have an image with desired elements but want to generate several alternative options with similar characteristics."
   ]
  },
  {
   "cell_type": "code",
   "execution_count": null,
   "metadata": {},
   "outputs": [],
   "source": [
    "input = encode_image_base64_from_file(f\"./sample/robots.png\", format=\"PNG\")\n",
    "display_image(input)\n",
    "\n",
    "body = image_params.image_variant(\n",
    "    images=[input],\n",
    "    text=\"tiger\"\n",
    ")\n",
    "img = gen_image(body)\n",
    "display_image(img)"
   ]
  },
  {
   "attachments": {},
   "cell_type": "markdown",
   "metadata": {},
   "source": [
    "## Inpainting\n",
    "\n",
    "This is the process of repainting all pixels within the masked area of an image. When using an image mask, all black pixels are repainted. If using a mask prompt, the items indicated in the mask prompt are repainted."
   ]
  },
  {
   "cell_type": "code",
   "execution_count": null,
   "metadata": {},
   "outputs": [],
   "source": [
    "input = encode_image_base64_from_file(f\"./sample/food.png\", format=\"PNG\")\n",
    "display_image(input)\n",
    "\n",
    "body = image_params.inpainting(image=input,\n",
    "                                mask_prompt=\"bowl of salsa\",\n",
    "                                text=\"bowl of black beans\")\n",
    "img = gen_image(body)\n",
    "display_image(img)"
   ]
  },
  {
   "attachments": {},
   "cell_type": "markdown",
   "metadata": {},
   "source": [
    "## Outpainting\n",
    "\n",
    "This is a process of painting all pixels outside the mask area of the image. When using an image mask, all white pixels are repainted. If using a mask prompt, items shown in the mask prompt are preserved while everything else is repainted."
   ]
  },
  {
   "cell_type": "code",
   "execution_count": null,
   "metadata": {},
   "outputs": [],
   "source": [
    "input = encode_image_base64_from_file(f\"./sample/laptop.jpg\", format=\"JPEG\")\n",
    "display_image(input)\n",
    "\n",
    "body = image_params.outpainting(image=input,\n",
    "                                mask_prompt=\"laptop\",\n",
    "                                text=\"laptop on a granite countertop\")\n",
    "img = gen_image(body)\n",
    "display_image(img)"
   ]
  },
  {
   "attachments": {},
   "cell_type": "markdown",
   "metadata": {},
   "source": [
    "## Image Conditioning\n",
    "\n",
    "You can use image conditioning to intentionally and precisely shape your artwork. By providing a reference image (i.e., conditioning image), you can direct the model to focus on specific visual characteristics such as edges, object contours, structural elements, or segmentation maps that define individual areas and objects within the reference image.\n",
    "\n",
    "AWS supports two types of image conditioning: Canny edge and segmentation.\n",
    "\n",
    "- The Canny edge algorithm allows you to extract prominent edges from the reference image, creating a map that Amazon Titan Image Generator can use to guide the generation process. This enables you to 'draw' the foundation of your desired image. The model then fills in the details, textures, and ultimately the aesthetic elements according to your guidance.\n",
    "\n",
    "- Segmentation offers a much more granular level of control. By providing a reference image, you can define specific areas or objects within the image and instruct Amazon Titan Image Generator to generate content that matches the defined regions. This allows for precise control over the placement and rendering of characters, objects, and other key elements."
   ]
  },
  {
   "cell_type": "code",
   "execution_count": null,
   "metadata": {},
   "outputs": [],
   "source": [
    "input_image = encode_image_base64_from_file(f\"./sample/house.jpg\", format=\"JPEG\")\n",
    "display_image(input_image)\n",
    "\n",
    "body = image_params.text_to_image(text=\"A fairytale house in the forest\", condition_image=input_image)\n",
    "img = gen_image(body)\n",
    "display_image(img)"
   ]
  },
  {
   "attachments": {},
   "cell_type": "markdown",
   "metadata": {},
   "source": [
    "## Color Conditioning\n",
    "\n",
    "Most designers want to control the color palette of generated images as they aim to create images that adhere to color branding guidelines.\n",
    "\n",
    "Using Amazon Titan Image Generator v2, you can generate color-conditioned images based on a color palette, which is a list of hexadecimal colors provided as part of the input that adheres to color branding guidelines. You can also provide a reference image as an optional input to generate images with the given hexadecimal colors while inheriting the style from the reference image."
   ]
  },
  {
   "cell_type": "code",
   "execution_count": null,
   "metadata": {},
   "outputs": [],
   "source": [
    "body = image_params.color_guide(\n",
    "    text='Modern, high-end beach house interior with panoramic views of the sand and sea, emphasizing sleek design and uncluttered spaces',\n",
    "    colors=['#ff8080', \"#e5ff80\"]\n",
    ")\n",
    "img = gen_image(body)\n",
    "display_image(img)"
   ]
  },
  {
   "attachments": {},
   "cell_type": "markdown",
   "metadata": {},
   "source": [
    "## Background Removal\n",
    "\n",
    "When compositing an image onto a solid background or layering it over another scene, the ability to remove the background cleanly and accurately is an essential tool in the creative workflow. You can instantly remove the background from an image in one go. Amazon Titan Image Generator v2 can intelligently detect and segment multiple foreground objects, allowing for clean separation of complex scenes with overlapping elements."
   ]
  },
  {
   "cell_type": "code",
   "execution_count": null,
   "metadata": {},
   "outputs": [],
   "source": [
    "input = encode_image_base64_from_file(f\"./sample/falcon.png\", format=\"PNG\")\n",
    "display_image(input)\n",
    "\n",
    "body = image_params.background_removal(image=input)\n",
    "img = gen_image(body)\n",
    "display_image(img)"
   ]
  },
  {
   "cell_type": "code",
   "execution_count": null,
   "metadata": {},
   "outputs": [],
   "source": []
  }
 ],
 "metadata": {
  "kernelspec": {
   "display_name": "base",
   "language": "python",
   "name": "python3"
  },
  "language_info": {
   "codemirror_mode": {
    "name": "ipython",
    "version": 3
   },
   "file_extension": ".py",
   "mimetype": "text/x-python",
   "name": "python",
   "nbconvert_exporter": "python",
   "pygments_lexer": "ipython3",
   "version": "3.10.13"
  },
  "orig_nbformat": 4,
  "vscode": {
   "interpreter": {
    "hash": "2c97182bcee1c5a46c75e12f527516848bb4d812af65bc6ddf5c082f318f5a83"
   }
  }
 },
 "nbformat": 4,
 "nbformat_minor": 2
}
