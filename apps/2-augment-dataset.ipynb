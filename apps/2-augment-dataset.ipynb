{
 "cells": [
  {
   "cell_type": "code",
   "execution_count": 8,
   "metadata": {},
   "outputs": [],
   "source": [
    "import json\n",
    "from data.dataloader import DataLoader, LanguageTag\n",
    "\n",
    "dataloader = DataLoader(index=0, language=LanguageTag.KOR)"
   ]
  },
  {
   "cell_type": "code",
   "execution_count": 10,
   "metadata": {},
   "outputs": [
    {
     "data": {
      "text/html": [
       "<img src=\"data:image/webp;base64,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\" width=\"100\"/>"
      ],
      "text/plain": [
       "<IPython.core.display.HTML object>"
      ]
     },
     "metadata": {},
     "output_type": "display_data"
    },
    {
     "name": "stdout",
     "output_type": "stream",
     "text": [
      "[B07DBHC36Z] Ravenna 가정용 곡선 유리 테이블 램프, 21197-000\n",
      "{\n",
      "    \"item_id\": \"B07DBHC36Z\",\n",
      "    \"bullet_point\": \"\",\n",
      "    \"item_name\": \"Ravenna 가정용 곡선 유리 테이블 램프, 21197-000\",\n",
      "    \"product_type\": [\n",
      "        \"LAMP\"\n",
      "    ],\n",
      "    \"main_image_id\": \"41gQirA2zsL\",\n",
      "    \"other_image_id\": [\n",
      "        \"519X5TwxvCL\",\n",
      "        \"91xNs2C3BaL\",\n",
      "        \"61VqJGViWCL\",\n",
      "        \"51VkadkM22L\",\n",
      "        \"513y8u-YPEL\",\n",
      "        \"51mFfHcQ2dL\",\n",
      "        \"417FoWZTBXL\"\n",
      "    ],\n",
      "    \"node\": [\n",
      "        \"/Categories/Lighting & Ceiling Fans/Lamps & Shades/Table Lamps\"\n",
      "    ],\n",
      "    \"image_id\": \"41gQirA2zsL\",\n",
      "    \"height\": 1010.0,\n",
      "    \"width\": 1010.0,\n",
      "    \"img_path\": \"73/73820696.jpg\"\n",
      "}\n"
     ]
    }
   ],
   "source": [
    "id = dataloader.get_random_id()\n",
    "item = dataloader.show_item(item_id=id)\n",
    "\n",
    "print(json.dumps(item, indent=4, ensure_ascii=False))"
   ]
  },
  {
   "cell_type": "markdown",
   "metadata": {},
   "source": [
    "상품 정보는 위와 같이 JSON 형태로 표현될 수 있습니다. 이 데이터를 RAG 용 데이터로 활용하기에는 몇 가지 문제가 있습니다.\n",
    "\n",
    "- **부족한 제품 설명**: 제품 설명(productDescriptors)에는 태그 값이 혼재되어 있을 뿐만 아니라, 주로 상품 설명보다는 주의 사항이나 관리 방법을 기술하고 있습니다. 이는 제품 자체의 특성을 설명하기에는 부족하여, 사용자가 원하는 제품 정보를 검색 하는 데 어려움을 겪을 수 있습니다.\n",
    "- **JSON 포맷의 데이터**: Language Model은 일반적으로 자연어 텍스트로 학습이 되어 있어, JSON 구조에서는 필요한 정보를 효율적으로 추출하기 어려울 수 있습니다.\n",
    "\n",
    "이를 해결하기 위해 아래와 같은 데이터 가공 작업을 수행합니다.\n",
    "\n",
    "- 제품 이름과 관련된 모든 정보를 한국어로 번역하여, 사용자가 보다 쉽게 접근할 수 있도록 합니다.\n",
    "- JSON 필드값과 상품 이미지를 기반으로, 제품의 주요 특성을 강조하는 설명 문구를 새롭게 작성합니다. 이를 통해 사용자에게 더 명확하고 유용한 정보를 제공할 수 있습니다."
   ]
  },
  {
   "cell_type": "code",
   "execution_count": 6,
   "metadata": {},
   "outputs": [
    {
     "data": {
      "text/plain": [
       "dict"
      ]
     },
     "execution_count": 6,
     "metadata": {},
     "output_type": "execute_result"
    }
   ],
   "source": [
    "type(item)"
   ]
  },
  {
   "cell_type": "code",
   "execution_count": null,
   "metadata": {},
   "outputs": [],
   "source": []
  },
  {
   "cell_type": "code",
   "execution_count": 4,
   "metadata": {},
   "outputs": [
    {
     "name": "stdout",
     "output_type": "stream",
     "text": [
      "'thumbnail'\n",
      "None\n"
     ]
    },
    {
     "ename": "KeyError",
     "evalue": "'thumbnail'",
     "output_type": "error",
     "traceback": [
      "\u001b[0;31m---------------------------------------------------------------------------\u001b[0m",
      "\u001b[0;31mKeyError\u001b[0m                                  Traceback (most recent call last)",
      "\u001b[1;32m/home/yoo/workspace/multimodal-gen-ai/1-augment-dataset.ipynb Cell 4\u001b[0m in \u001b[0;36m<cell line: 10>\u001b[0;34m()\u001b[0m\n\u001b[1;32m      <a href='vscode-notebook-cell:/home/yoo/workspace/multimodal-gen-ai/1-augment-dataset.ipynb#W4sZmlsZQ%3D%3D?line=6'>7</a>\u001b[0m \u001b[39mprint\u001b[39m(desc)\n\u001b[1;32m      <a href='vscode-notebook-cell:/home/yoo/workspace/multimodal-gen-ai/1-augment-dataset.ipynb#W4sZmlsZQ%3D%3D?line=8'>9</a>\u001b[0m \u001b[39m# 상품 메타 정보 JSON 포맷으로 생성\u001b[39;00m\n\u001b[0;32m---> <a href='vscode-notebook-cell:/home/yoo/workspace/multimodal-gen-ai/1-augment-dataset.ipynb#W4sZmlsZQ%3D%3D?line=9'>10</a>\u001b[0m metadata \u001b[39m=\u001b[39m augmentation\u001b[39m.\u001b[39;49mgen_properties(item)\n\u001b[1;32m     <a href='vscode-notebook-cell:/home/yoo/workspace/multimodal-gen-ai/1-augment-dataset.ipynb#W4sZmlsZQ%3D%3D?line=10'>11</a>\u001b[0m \u001b[39mprint\u001b[39m(metadata)\n",
      "File \u001b[0;32m~/workspace/multimodal-gen-ai/data/augmentation.py:33\u001b[0m, in \u001b[0;36mAugmentation.gen_properties\u001b[0;34m(self, item)\u001b[0m\n\u001b[1;32m     15\u001b[0m \u001b[39mdef\u001b[39;00m \u001b[39mgen_properties\u001b[39m(\u001b[39mself\u001b[39m, item: \u001b[39mdict\u001b[39m):\n\u001b[1;32m     16\u001b[0m     template \u001b[39m=\u001b[39m PromptTemplate(\n\u001b[1;32m     17\u001b[0m                 template\u001b[39m=\u001b[39m\u001b[39m\"\"\"\u001b[39m\n\u001b[1;32m     18\u001b[0m \u001b[39m                    Look at the image and properties of this product and describe it in Korean.\u001b[39m\n\u001b[0;32m   (...)\u001b[0m\n\u001b[1;32m     30\u001b[0m                 input_variables\u001b[39m=\u001b[39m[\u001b[39m'\u001b[39m\u001b[39mproduct\u001b[39m\u001b[39m'\u001b[39m]\n\u001b[1;32m     31\u001b[0m             )\n\u001b[0;32m---> 33\u001b[0m     res \u001b[39m=\u001b[39m \u001b[39mself\u001b[39m\u001b[39m.\u001b[39mllm\u001b[39m.\u001b[39minvoke_llm_response(text\u001b[39m=\u001b[39mtemplate\u001b[39m.\u001b[39mformat(product\u001b[39m=\u001b[39m\u001b[39mstr\u001b[39m(item)), imgUrl\u001b[39m=\u001b[39mitem[\u001b[39m'\u001b[39;49m\u001b[39mthumbnail\u001b[39;49m\u001b[39m'\u001b[39;49m])\n\u001b[1;32m     34\u001b[0m     \u001b[39mtry\u001b[39;00m:\n\u001b[1;32m     35\u001b[0m         j \u001b[39m=\u001b[39m json\u001b[39m.\u001b[39mloads(\u001b[39mstr\u001b[39m(res))\n",
      "\u001b[0;31mKeyError\u001b[0m: 'thumbnail'"
     ]
    }
   ],
   "source": [
    "from data.augmentation import Augmentation\n",
    "\n",
    "augmentation = Augmentation()\n",
    "\n",
    "# 상품 소개 글 생성\n",
    "desc = augmentation.gen_description(item)\n",
    "print(desc)\n",
    "\n",
    "# 상품 메타 정보 JSON 포맷으로 생성\n",
    "metadata = augmentation.gen_properties(item)\n",
    "print(metadata)"
   ]
  },
  {
   "cell_type": "code",
   "execution_count": null,
   "metadata": {},
   "outputs": [],
   "source": []
  }
 ],
 "metadata": {
  "kernelspec": {
   "display_name": "base",
   "language": "python",
   "name": "python3"
  },
  "language_info": {
   "codemirror_mode": {
    "name": "ipython",
    "version": 3
   },
   "file_extension": ".py",
   "mimetype": "text/x-python",
   "name": "python",
   "nbconvert_exporter": "python",
   "pygments_lexer": "ipython3",
   "version": "3.9.12"
  },
  "orig_nbformat": 4,
  "vscode": {
   "interpreter": {
    "hash": "2c97182bcee1c5a46c75e12f527516848bb4d812af65bc6ddf5c082f318f5a83"
   }
  }
 },
 "nbformat": 4,
 "nbformat_minor": 2
}
