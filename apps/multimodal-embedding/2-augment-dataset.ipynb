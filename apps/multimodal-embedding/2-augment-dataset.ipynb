{
 "cells": [
  {
   "cell_type": "code",
   "execution_count": 8,
   "metadata": {},
   "outputs": [],
   "source": [
    "import os\n",
    "import sys\n",
    "\n",
    "ROOT_PATH = os.path.abspath(\"../../\")\n",
    "sys.path.append(ROOT_PATH)"
   ]
  },
  {
   "cell_type": "code",
   "execution_count": 9,
   "metadata": {},
   "outputs": [],
   "source": [
    "import json\n",
    "from common.dataset.dataloader import DataLoader, LanguageTag\n",
    "from common.utils.images import display_image, encode_image_base64\n",
    "\n",
    "dataloader = DataLoader(index=0, language=LanguageTag.KOR)"
   ]
  },
  {
   "cell_type": "code",
   "execution_count": 10,
   "metadata": {},
   "outputs": [
    {
     "data": {
      "text/plain": [
       "{'item_id': 'B07BHFLJGV',\n",
       " 'bullet_point': '네이비 블루, 풀 사이즈 여행용 우산은 컴팩트한 사이즈로 닫힙니다.',\n",
       " 'item_name': 'AmazonBasics 자동 여행용 소형 소형 소형 우산, 풍력 통풍구 포함), WXD0927WD',\n",
       " 'product_type': ['UMBRELLA'],\n",
       " 'main_image_id': '71aQBPEW8SL',\n",
       " 'other_image_id': ['71WL91ZXgUL',\n",
       "  '81jFhpQEVVL',\n",
       "  '81dqKi9VU9L',\n",
       "  '81gOVAgsNjL',\n",
       "  '81cXbQI4kKL'],\n",
       " 'node': ['/Departments/Luggage & Travel Gear/Umbrellas/Stick Umbrellas'],\n",
       " 'image_id': '71aQBPEW8SL',\n",
       " 'height': 1806.0,\n",
       " 'width': 1928.0,\n",
       " 'img_path': '88/881a9b92.jpg'}"
      ]
     },
     "execution_count": 10,
     "metadata": {},
     "output_type": "execute_result"
    }
   ],
   "source": [
    "id = dataloader.get_random_id()\n",
    "item = dataloader.get_item(item_id=id)\n",
    "item"
   ]
  },
  {
   "cell_type": "code",
   "execution_count": 13,
   "metadata": {},
   "outputs": [
    {
     "data": {
      "text/html": [
       "<img src=\"data:image/webp;base64,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\" height=\"200\"/>"
      ],
      "text/plain": [
       "<IPython.core.display.HTML object>"
      ]
     },
     "metadata": {},
     "output_type": "display_data"
    }
   ],
   "source": [
    "img_id = item.get('main_image_id')\n",
    "img = dataloader.get_image(image_id=img_id)\n",
    "encoded_base64 = encode_image_base64(img)\n",
    "display_image(encoded_base64)"
   ]
  },
  {
   "attachments": {},
   "cell_type": "markdown",
   "metadata": {},
   "source": [
    "상품 정보는 위와 같이 JSON 형태로 표현될 수 있습니다. 해당 정보만으로는 제품 자체의 특성을 설명하기에는 부족하여, 사용자가 원하는 제품 정보를 검색 및 확인 하는 데 어려움을 겪을 수 있습니다.\n",
    "\n",
    "또한 LLM 일반적으로 자연어 텍스트로 학습이 되어 있어, JSON 구조에서는 필요한 정보를 효율적으로 추출하기 어려울 수 있습니다.\n",
    "\n",
    "이를 해결하기 위해 아래와 같은 데이터 가공 작업을 수행합니다.\n",
    "\n",
    "- 제품 이름과 관련된 모든 정보를 한국어로 번역하여, 사용자가 보다 쉽게 접근할 수 있도록 합니다.\n",
    "- JSON 필드값과 상품 이미지를 기반으로, 제품의 주요 특성을 강조하는 설명 문구를 새롭게 작성합니다. 이를 통해 사용자에게 더 명확하고 유용한 정보를 제공할 수 있습니다."
   ]
  },
  {
   "cell_type": "code",
   "execution_count": 14,
   "metadata": {},
   "outputs": [
    {
     "name": "stdout",
     "output_type": "stream",
     "text": [
      "비 오는 날, 당신의 스타일을 지켜줄 완벽한 동반자를 소개합니다! AmazonBasics의 자동 여행용 우산으로 우아함과 실용성을 동시에 잡으세요.\n",
      "\n",
      "네이비 블루의 세련된 색상으로 어떤 옷차림에도 잘 어울리는 이 우산은 풀 사이즈로 넓은 커버리지를 제공하면서도, 놀랍게도 컴팩트한 크기로 접힙니다. 가방에 쏙 들어가는 크기로 언제 어디서나 휴대가 간편해요.\n",
      "\n",
      "자동 개폐 기능으로 한 손으로도 쉽게 펼치고 접을 수 있어 바쁜 도시 생활에 딱이죠. 특히 풍력 통풍구가 있어 강한 바람에도 뒤집히지 않고 안정적으로 사용할 수 있답니다.\n",
      "\n",
      "여행이든 출퇴근이든, 이 우산 하나면 갑작스러운 비에도 당황하지 않고 우아하게 대처할 수 있어요. 작지만 강한 이 우산으로 어떤 날씨에도 자신감 넘치는 당신의 모습을 만나보세요!\n",
      "\n",
      "지금 AmazonBasics 자동 여행용 우산을 선택하고, 비 오는 날의 새로운 멋을 발견해보세요. 당신의 스타일을 한층 업그레이드할 기회를 놓치지 마세요!\n"
     ]
    },
    {
     "data": {
      "text/plain": [
       "{'namekor': '아마존베이직스 자동 여행용 소형 우산',\n",
       " 'summary': '네이비 블루 색상의 컴팩트한 자동 접이식 여행용 우산입니다.',\n",
       " 'image_summary': '이 제품은 네이비 블루 색상의 자동 접이식 우산입니다. 우산의 캐노피는 견고한 폴리에스터 소재로 만들어졌으며, 블랙 컬러의 손잡이와 프레임이 특징입니다. 우산은 접혀있는 상태로 컴팩트한 크기를 유지하며, 자동 개폐 기능이 있어 편리합니다.',\n",
       " 'tags': ['네이비 블루', '자동 접이식', '여행용', '컴팩트', '폴리에스터', '풍력 통풍구', '우산']}"
      ]
     },
     "execution_count": 14,
     "metadata": {},
     "output_type": "execute_result"
    }
   ],
   "source": [
    "from common.dataset.augmentation import Augmentation\n",
    "\n",
    "augmentation = Augmentation()\n",
    "\n",
    "# 상품 소개 글 생성\n",
    "desc = augmentation.gen_description(item=item, image=encoded_base64)\n",
    "print(desc)\n",
    "\n",
    "# 상품 메타 정보 JSON 포맷으로 생성\n",
    "metadata = augmentation.gen_properties(item=item, image=encoded_base64)\n",
    "metadata"
   ]
  },
  {
   "cell_type": "code",
   "execution_count": 15,
   "metadata": {},
   "outputs": [
    {
     "data": {
      "text/plain": [
       "{'namekor': '아마존베이직스 자동 여행용 소형 우산',\n",
       " 'summary': '네이비 블루 색상의 컴팩트한 자동 접이식 여행용 우산입니다.',\n",
       " 'image_summary': '이 제품은 네이비 블루 색상의 자동 접이식 우산입니다. 우산의 캐노피는 견고한 폴리에스터 소재로 만들어져 있으며, 블랙 컬러의 손잡이와 프레임이 특징입니다. 우산은 접혀있는 상태로 컴팩트한 크기를 유지하며, 자동 개폐 기능이 있어 편리합니다.',\n",
       " 'tags': ['네이비 블루', '자동 접이식', '여행용', '컴팩트', '폴리에스터', '방풍', '경량']}"
      ]
     },
     "execution_count": 15,
     "metadata": {},
     "output_type": "execute_result"
    }
   ],
   "source": [
    "# 상품 메타 정보 JSON 포맷으로 생성\n",
    "metadata = augmentation.gen_properties(item=item, image=encoded_base64)\n",
    "metadata"
   ]
  },
  {
   "cell_type": "code",
   "execution_count": null,
   "metadata": {},
   "outputs": [],
   "source": []
  }
 ],
 "metadata": {
  "kernelspec": {
   "display_name": "base",
   "language": "python",
   "name": "python3"
  },
  "language_info": {
   "codemirror_mode": {
    "name": "ipython",
    "version": 3
   },
   "file_extension": ".py",
   "mimetype": "text/x-python",
   "name": "python",
   "nbconvert_exporter": "python",
   "pygments_lexer": "ipython3",
   "version": "3.9.12"
  },
  "orig_nbformat": 4,
  "vscode": {
   "interpreter": {
    "hash": "2c97182bcee1c5a46c75e12f527516848bb4d812af65bc6ddf5c082f318f5a83"
   }
  }
 },
 "nbformat": 4,
 "nbformat_minor": 2
}
