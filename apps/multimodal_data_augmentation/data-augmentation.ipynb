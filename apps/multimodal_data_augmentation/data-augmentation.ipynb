{
 "cells": [
  {
   "cell_type": "code",
   "execution_count": 1,
   "metadata": {},
   "outputs": [],
   "source": [
    "import os\n",
    "import sys\n",
    "\n",
    "ROOT_PATH = os.path.abspath(\"../../\")\n",
    "sys.path.append(ROOT_PATH)"
   ]
  },
  {
   "cell_type": "code",
   "execution_count": 2,
   "metadata": {},
   "outputs": [],
   "source": [
    "import json\n",
    "from common.dataset.dataloader import DataLoader, LanguageTag\n",
    "from common.utils.images import display_image, encode_image_base64\n",
    "\n",
    "dataloader = DataLoader(index=0, language=LanguageTag.KOR)"
   ]
  },
  {
   "cell_type": "code",
   "execution_count": null,
   "metadata": {},
   "outputs": [],
   "source": [
    "id = dataloader.get_random_id()\n",
    "item, img = dataloader.get_item(item_id=id)\n",
    "encoded_base64 = encode_image_base64(img)\n",
    "display_image(encoded_base64)\n",
    "print(item)"
   ]
  },
  {
   "cell_type": "code",
   "execution_count": 4,
   "metadata": {},
   "outputs": [],
   "source": [
    "from common.aws.titan_image import BedrockTitanImage, ImageParams\n",
    "from common.utils.images import display_image\n",
    "from augmentation import Augmentation\n",
    "\n",
    "\n",
    "titan = BedrockTitanImage()\n",
    "augmentation = Augmentation()"
   ]
  },
  {
   "cell_type": "code",
   "execution_count": null,
   "metadata": {},
   "outputs": [],
   "source": [
    "id = dataloader.get_random_id()\n",
    "item, img = dataloader.show_item(item_id=id)\n",
    "encoded_image = encode_image_base64(img)\n",
    "\n",
    "# 상품 소개 글 생성\n",
    "desc = augmentation.gen_description(item=item, image=encoded_image)\n",
    "print(f\"[Description]\\n{desc}\")\n",
    "\n",
    "# 상품 메타 정보 JSON 포맷으로 생성\n",
    "metadata = augmentation.gen_properties(item=item, image=encoded_image)\n",
    "print(f\"[Metadata]\\n{json.dumps(metadata, indent=4, ensure_ascii=False)}\")\n",
    "\n",
    "# 상품 아이콘을 위한 이미지 프롬프트/이미지 생성\n",
    "prompts = augmentation.gen_image_prompt(item=metadata, image=encoded_image)\n",
    "for prompt in prompts:\n",
    "    print(f\"[Image Prompt]\\n{prompt}\")\n",
    "    body = ImageParams().text_to_image(text=prompt)\n",
    "    gen_img = titan.generate_image(body=body)\n",
    "    display_image(gen_img)"
   ]
  },
  {
   "cell_type": "code",
   "execution_count": null,
   "metadata": {},
   "outputs": [],
   "source": []
  }
 ],
 "metadata": {
  "kernelspec": {
   "display_name": "base",
   "language": "python",
   "name": "python3"
  },
  "language_info": {
   "codemirror_mode": {
    "name": "ipython",
    "version": 3
   },
   "file_extension": ".py",
   "mimetype": "text/x-python",
   "name": "python",
   "nbconvert_exporter": "python",
   "pygments_lexer": "ipython3",
   "version": "3.9.12"
  },
  "orig_nbformat": 4,
  "vscode": {
   "interpreter": {
    "hash": "2c97182bcee1c5a46c75e12f527516848bb4d812af65bc6ddf5c082f318f5a83"
   }
  }
 },
 "nbformat": 4,
 "nbformat_minor": 2
}
