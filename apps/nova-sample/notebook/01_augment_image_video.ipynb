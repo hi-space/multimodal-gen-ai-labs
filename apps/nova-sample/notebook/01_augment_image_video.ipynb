{
 "cells": [
  {
   "cell_type": "code",
   "execution_count": null,
   "metadata": {},
   "outputs": [],
   "source": [
    "import json\n",
    "from bedrock_text import BedrockText\n",
    "from bedrock_model import BedrockModel\n",
    "from image_utils import *"
   ]
  },
  {
   "cell_type": "code",
   "execution_count": null,
   "metadata": {},
   "outputs": [],
   "source": [
    "llm = BedrockText(modelId=BedrockModel.NOVA_PRO, region='us-east-1')"
   ]
  },
  {
   "cell_type": "code",
   "execution_count": null,
   "metadata": {},
   "outputs": [],
   "source": [
    "img = get_image_bytes_from_file(file_path='./sample/food.jpg', format='jpeg')\n",
    "display_image_bytes(img)"
   ]
  },
  {
   "cell_type": "markdown",
   "metadata": {},
   "source": [
    "## 1. Creating image prompts for outpainting"
   ]
  },
  {
   "cell_type": "code",
   "execution_count": null,
   "metadata": {},
   "outputs": [],
   "source": [
    "photo_text = \"\"\n",
    "\n",
    "PROMPT = f\"\"\"You are a copywriter who looks at an image and creates ideas to expand that image.\n",
    "Refer to the given image and image description to write an expanded image description in one sentence in English.\n",
    "\n",
    "## Image Description\n",
    "\n",
    "{photo_text}\n",
    "\n",
    "## Output Format\n",
    "\n",
    "Please provide your description in the following format, without any additional explanation:\n",
    "{{\n",
    "    \"image_prompt\": \"A one-sentence visual description of the food items included in the image\"\n",
    "}}\n",
    "\"\"\"\n",
    "\n",
    "res = llm.converse_output(text=PROMPT, image=img, format='jpeg')\n",
    "j = json.loads(res)\n",
    "expand_prompt = j.get('image_prompt', '')\n",
    "print(expand_prompt)"
   ]
  },
  {
   "cell_type": "code",
   "execution_count": null,
   "metadata": {},
   "outputs": [],
   "source": []
  }
 ],
 "metadata": {
  "kernelspec": {
   "display_name": "base",
   "language": "python",
   "name": "python3"
  },
  "language_info": {
   "codemirror_mode": {
    "name": "ipython",
    "version": 3
   },
   "file_extension": ".py",
   "mimetype": "text/x-python",
   "name": "python",
   "nbconvert_exporter": "python",
   "pygments_lexer": "ipython3",
   "version": "3.9.12"
  }
 },
 "nbformat": 4,
 "nbformat_minor": 2
}
